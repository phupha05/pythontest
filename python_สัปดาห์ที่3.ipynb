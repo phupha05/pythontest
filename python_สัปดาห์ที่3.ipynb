{
  "nbformat": 4,
  "nbformat_minor": 0,
  "metadata": {
    "colab": {
      "provenance": [],
      "authorship_tag": "ABX9TyNRa9LSt8iz3U3txgGcQmcg",
      "include_colab_link": true
    },
    "kernelspec": {
      "name": "python3",
      "display_name": "Python 3"
    },
    "language_info": {
      "name": "python"
    }
  },
  "cells": [
    {
      "cell_type": "markdown",
      "metadata": {
        "id": "view-in-github",
        "colab_type": "text"
      },
      "source": [
        "<a href=\"https://colab.research.google.com/github/phupha05/pythontest/blob/main/python_%E0%B8%AA%E0%B8%B1%E0%B8%9B%E0%B8%94%E0%B8%B2%E0%B8%AB%E0%B9%8C%E0%B8%97%E0%B8%B5%E0%B9%883.ipynb\" target=\"_parent\"><img src=\"https://colab.research.google.com/assets/colab-badge.svg\" alt=\"Open In Colab\"/></a>"
      ]
    },
    {
      "cell_type": "code",
      "execution_count": 9,
      "metadata": {
        "colab": {
          "base_uri": "https://localhost:8080/"
        },
        "id": "9TAlnVJ7l7h1",
        "outputId": "4e6da903-af3d-4812-9b9f-1d961f55e441"
      },
      "outputs": [
        {
          "output_type": "stream",
          "name": "stdout",
          "text": [
            "กรุณากรอกชื่อ:ภูผา หวังผล\n",
            "กรุณากรอกปีเกิด:2548\n",
            "คุณชื่อ ภูผา หวังผล อายุ 18 ปี\n"
          ]
        }
      ],
      "source": [
        "name = input(\"กรุณากรอกชื่อ:\")\n",
        "year = int(input(\"กรุณากรอกปีเกิด:\"))\n",
        "age = 2566 - year\n",
        "print(\"คุณชื่อ\",name,\"อายุ\",age,\"ปี\")"
      ]
    }
  ]
}