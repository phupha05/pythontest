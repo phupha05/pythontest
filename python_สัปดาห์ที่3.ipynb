{
  "nbformat": 4,
  "nbformat_minor": 0,
  "metadata": {
    "colab": {
      "provenance": [],
      "authorship_tag": "ABX9TyNRa9LSt8iz3U3txgGcQmcg",
      "include_colab_link": true
    },
    "kernelspec": {
      "name": "python3",
      "display_name": "Python 3"
    },
    "language_info": {
      "name": "python"
    }
  },
  "cells": [
    {
      "cell_type": "markdown",
      "metadata": {
        "id": "view-in-github",
        "colab_type": "text"
      },
      "source": [
        "<a href=\"https://colab.research.google.com/github/phupha05/pythontest/blob/main/python_%E0%B8%AA%E0%B8%B1%E0%B8%9B%E0%B8%94%E0%B8%B2%E0%B8%AB%E0%B9%8C%E0%B8%97%E0%B8%B5%E0%B9%883.ipynb\" target=\"_parent\"><img src=\"https://colab.research.google.com/assets/colab-badge.svg\" alt=\"Open In Colab\"/></a>"
      ]
    },
    {
      "cell_type": "code",
      "execution_count": 4,
      "metadata": {
        "colab": {
          "base_uri": "https://localhost:8080/"
        },
        "id": "9TAlnVJ7l7h1",
        "outputId": "98e328d9-bf52-409c-db52-38b2ca85eda1"
      },
      "outputs": [
        {
          "output_type": "stream",
          "name": "stdout",
          "text": [
            "กรุณากรอกชื่อ:กิตติศักดิ์ พิมพ์จันทร์\n",
            "กรุณากรอกปีเกิด:2549\n",
            "คุณชื่อ กิตติศักดิ์ พิมพ์จันทร์ อายุ 17 ปี\n"
          ]
        }
      ],
      "source": [
        "name = input(\"กรุณากรอกชื่อ:\")\n",
        "year = int(input(\"กรุณากรอกปีเกิด:\"))\n",
        "age = 2566 - year\n",
        "print(\"คุณชื่อ\",name,\"อายุ\",age,\"ปี\")"
      ]
    }
  ]
}